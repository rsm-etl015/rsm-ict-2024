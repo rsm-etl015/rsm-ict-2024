{
 "cells": [
  {
   "cell_type": "code",
   "execution_count": null,
   "metadata": {},
   "outputs": [],
   "source": [
    "## use conda to manage new environments through a terminal \n",
    "## see py-packages.sh for details"
   ]
  },
  {
   "cell_type": "code",
   "execution_count": null,
   "metadata": {},
   "outputs": [],
   "source": [
    "## install python package from a terminal using the code below\n",
    "## this package will be available after restarting the container\n",
    "# pip install --user redis\n",
    "# or add a !\n",
    "!pip install --user redis"
   ]
  },
  {
   "cell_type": "code",
   "execution_count": null,
   "metadata": {},
   "outputs": [],
   "source": [
    "## you may need Kernel > Restart Kernel before you can\n",
    "## check if and where it was installed\n",
    "import redis\n",
    "redis.__file__"
   ]
  },
  {
   "cell_type": "code",
   "execution_count": null,
   "metadata": {},
   "outputs": [],
   "source": [
    "## uninstall python packages from the terminal\n",
    "# pip uninstall --yes redis\n",
    "## or use the below\n",
    "!pip uninstall --yes redis"
   ]
  },
  {
   "cell_type": "code",
   "execution_count": null,
   "metadata": {},
   "outputs": [],
   "source": [
    "## or cleanup from terminal\n",
    "## this function/script is interactive so do NOT\n",
    "## try to run from inside JupyterLab\n",
    "# clean"
   ]
  }
 ],
 "metadata": {
  "kernelspec": {
   "display_name": "Python 3 (ipykernel)",
   "language": "python",
   "name": "python3"
  },
  "language_info": {
   "codemirror_mode": {
    "name": "ipython",
    "version": 3
   },
   "file_extension": ".py",
   "mimetype": "text/x-python",
   "name": "python",
   "nbconvert_exporter": "python",
   "pygments_lexer": "ipython3",
   "version": "3.10.5"
  },
  "vscode": {
   "interpreter": {
    "hash": "d4d1e4263499bec80672ea0156c357c1ee493ec2b1c70f0acce89fc37c4a6abe"
   }
  }
 },
 "nbformat": 4,
 "nbformat_minor": 4
}

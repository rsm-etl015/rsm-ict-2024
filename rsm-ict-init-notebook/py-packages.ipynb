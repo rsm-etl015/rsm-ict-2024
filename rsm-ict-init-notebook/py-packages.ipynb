{
 "cells": [
  {
   "cell_type": "markdown",
   "metadata": {},
   "source": [
    "## use `pip --user` to add additional python packages"
   ]
  },
  {
   "cell_type": "code",
   "execution_count": 3,
   "metadata": {},
   "outputs": [
    {
     "name": "stdout",
     "output_type": "stream",
     "text": [
      "Collecting redis\n",
      "  Using cached redis-4.6.0-py3-none-any.whl (241 kB)\n",
      "Installing collected packages: redis\n",
      "Successfully installed redis-4.6.0\n",
      "Note: you may need to restart the kernel to use updated packages.\n"
     ]
    }
   ],
   "source": [
    "## install python package from a terminal using the code below\n",
    "## this package will be available after restarting the container\n",
    "# pip install --user redis\n",
    "# or add a !\n",
    "%pip install --user redis"
   ]
  },
  {
   "cell_type": "code",
   "execution_count": 1,
   "metadata": {},
   "outputs": [
    {
     "data": {
      "text/plain": [
       "'/home/jovyan/.rsm-msba/lib/python3.11/site-packages/redis/__init__.py'"
      ]
     },
     "execution_count": 1,
     "metadata": {},
     "output_type": "execute_result"
    }
   ],
   "source": [
    "## you may need Kernel > Restart Kernel before you can\n",
    "## check if and where it was installed\n",
    "import redis\n",
    "redis.__file__"
   ]
  },
  {
   "cell_type": "code",
   "execution_count": 4,
   "metadata": {},
   "outputs": [
    {
     "name": "stdout",
     "output_type": "stream",
     "text": [
      "Found existing installation: redis 4.6.0\n",
      "Uninstalling redis-4.6.0:\n",
      "  Successfully uninstalled redis-4.6.0\n",
      "Note: you may need to restart the kernel to use updated packages.\n"
     ]
    }
   ],
   "source": [
    "## uninstall python packages from the terminal\n",
    "# pip uninstall --yes redis\n",
    "## or use the below\n",
    "%pip uninstall --yes redis"
   ]
  },
  {
   "cell_type": "code",
   "execution_count": null,
   "metadata": {},
   "outputs": [],
   "source": [
    "## or cleanup from terminal\n",
    "## this function/script is interactive so do NOT\n",
    "## try to run from inside JupyterLab\n",
    "# clean"
   ]
  }
 ],
 "metadata": {
  "kernelspec": {
   "display_name": "Python 3 (ipykernel)",
   "language": "python",
   "name": "python3"
  },
  "language_info": {
   "codemirror_mode": {
    "name": "ipython",
    "version": 3
   },
   "file_extension": ".py",
   "mimetype": "text/x-python",
   "name": "python",
   "nbconvert_exporter": "python",
   "pygments_lexer": "ipython3",
   "version": "3.11.4"
  },
  "vscode": {
   "interpreter": {
    "hash": "d4d1e4263499bec80672ea0156c357c1ee493ec2b1c70f0acce89fc37c4a6abe"
   }
  }
 },
 "nbformat": 4,
 "nbformat_minor": 4
}
